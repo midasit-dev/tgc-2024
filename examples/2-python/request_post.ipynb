{
 "cells": [
  {
   "cell_type": "code",
   "execution_count": 2,
   "metadata": {},
   "outputs": [
    {
     "name": "stdout",
     "output_type": "stream",
     "text": [
      "post 함수가 정의 되었습니다.\n"
     ]
    }
   ],
   "source": [
    "import requests\n",
    "\n",
    "# def -> 함수를 정의 합니다.\n",
    "# def 함수명(매개변수들)의 구조를 가지고 있습니다.\n",
    "# 현재 매개변수는 url, headers에 포함될 mapiKey값, body가 있습니다.\n",
    "def post(url, mapiKey, id, x, y, z):\n",
    "  # headers 구성하기\n",
    "  headers = {\n",
    "    'MAPI-Key': mapiKey\n",
    "  }\n",
    "  \n",
    "  # body 구성하기\n",
    "  # body는 아래와 같은 형태로 구성되어야 합니다.\n",
    "  # body = {\n",
    "  #   \"Assign\": {\n",
    "  #     \"1\": { \"X\": 0, \"Y\": 0, \"Z\": 0 }\n",
    "  #   }\n",
    "  # }\n",
    "  body = {\n",
    "    \"Assign\": {\n",
    "      id: { \"X\": x, \"Y\": y, \"Z\": z }\n",
    "    }\n",
    "  }\n",
    "  \n",
    "  # 실제 POST 요청을 수행 합니다.\n",
    "  response = requests.post(url=url, headers=headers, json=body)\n",
    "  \n",
    "  # 반환된 응답이 ok가 아니면, 실패한 이유를 출력 해줍니다.\n",
    "  # status_code가 200번대가 아니라면 일반적으로 실패 입니다.\n",
    "  # 실패한 이유는 text를 통해 출력 합니다.\n",
    "  if response.ok == False:\n",
    "    print(f'Error: {response.status_code} / {response.text}')\n",
    "    return {}\n",
    "  else: \n",
    "    return response.json()\n",
    "  \n",
    "print('post 함수가 정의 되었습니다.')"
   ]
  },
  {
   "cell_type": "code",
   "execution_count": 4,
   "metadata": {},
   "outputs": [
    {
     "name": "stdout",
     "output_type": "stream",
     "text": [
      "{'NODE': {'1': {'X': 0, 'Y': 0, 'Z': 0}}}\n"
     ]
    }
   ],
   "source": [
    "endpoint = 'https://moa-engineers.midasit.com/civil'\n",
    "target = '/db/node'\n",
    "# 자신의 MAPI Key를 입력\n",
    "mapiKey = 'eyJ1ciI6ImtoMTAxMkBtaWRhc2l0LmNvbSIsInBnIjoiY2l2aWwiLCJjbiI6Im1nYU1wVUYtVHcifQ.61bc43c2e85240eabb4f5afd915374a14ba99aa6edd150e5c208a37274d1658f'\n",
    "data = post(url=endpoint + target, mapiKey=mapiKey, id=1, x=0, y=0, z=0)\n",
    "print(data)"
   ]
  }
 ],
 "metadata": {
  "kernelspec": {
   "display_name": "Python 3",
   "language": "python",
   "name": "python3"
  },
  "language_info": {
   "codemirror_mode": {
    "name": "ipython",
    "version": 3
   },
   "file_extension": ".py",
   "mimetype": "text/x-python",
   "name": "python",
   "nbconvert_exporter": "python",
   "pygments_lexer": "ipython3",
   "version": "3.12.2"
  }
 },
 "nbformat": 4,
 "nbformat_minor": 2
}
