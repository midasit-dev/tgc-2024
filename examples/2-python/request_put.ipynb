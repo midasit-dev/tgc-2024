{
 "cells": [
  {
   "cell_type": "code",
   "execution_count": 1,
   "source": [
    "import requests\n",
    "\n",
    "def put(url, mapiKey, id, x, y, z):\n",
    "\t# headers 구성하기\n",
    "\theaders = {\n",
    "\t\t'MAPI-Key': mapiKey\n",
    "\t}\n",
    "\n",
    "\t# post와 마찬가지로 body를 가집니다. (동일한 형태로 구성)\n",
    "\t# 변경할 데이터에 대해 정의 합니다.\n",
    "\t# body는 아래와 같은 형태로 구성되어야 합니다.\n",
    "\t# body = {\n",
    "\t#   \"Assign\": {\n",
    "\t#     \"1\": { \"X\": 0, \"Y\": 0, \"Z\": 0 }\n",
    "\t#   }\n",
    "\t# }\n",
    "\tbody = {\n",
    "\t\t\"Assign\": {\n",
    "\t\t\tid: { \"X\": x, \"Y\": y, \"Z\": z }\n",
    "\t\t}\n",
    "\t}\n",
    "\n",
    "\t# 실제 PUT 요청을 수행 합니다.\n",
    "\tresponse = requests.put(url=url, headers=headers, json=body)\n",
    "\tif response.ok == False:\n",
    "\t\tprint(f'Error: {response.status_code} / {response.text}')\n",
    "\t\treturn {}\n",
    "\telse:\n",
    "\t\treturn response.json()\n",
    "\n",
    "print('put 함수가 정의 되었습니다.')"
   ],
   "outputs": [
    {
     "output_type": "stream",
     "name": "stdout",
     "text": [
      "put 함수가 정의 되었습니다.\n"
     ]
    }
   ],
   "metadata": {}
  },
  {
   "cell_type": "code",
   "execution_count": 3,
   "source": [
    "endpoint = 'https://moa-engineers.midasit.com/civil'\n",
    "target = '/db/node'\n",
    "mapiKey = 'eyJ1ciI6ImtoMTAxMkBtaWRhc2l0LmNvbSIsInBnIjoiY2l2aWwiLCJjbiI6Im1nYU1wVUYtVHcifQ.61bc43c2e85240eabb4f5afd915374a14ba99aa6edd150e5c208a37274d1658f'\n",
    "data = put(url=endpoint + target, mapiKey=mapiKey, id=1, x=1, y=1, z=1)\n",
    "print(data)"
   ],
   "outputs": [
    {
     "output_type": "stream",
     "name": "stdout",
     "text": [
      "{'NODE': {'1': {'X': 1, 'Y': 1, 'Z': 1}}}\n"
     ]
    }
   ],
   "metadata": {}
  }
 ],
 "nbformat": 4,
 "nbformat_minor": 2,
 "metadata": {
  "language_info": {
   "codemirror_mode": {
    "name": "ipython",
    "version": 3
   },
   "file_extension": ".py",
   "mimetype": "text/x-python",
   "name": "python",
   "nbconvert_exporter": "python",
   "pygments_lexer": "ipython3",
   "version": 3
  }
 }
}