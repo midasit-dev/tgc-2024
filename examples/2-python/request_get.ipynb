{
 "cells": [
  {
   "cell_type": "code",
   "execution_count": 1,
   "source": [
    "import requests\n",
    "\n",
    "def get(url, mapiKey):\n",
    "\t# headers 구성하기\n",
    "\theaders = {\n",
    "\t\t'MAPI-Key': mapiKey,\n",
    "\t}\n",
    "\n",
    "\t# 실제 GET 요청을 수행 합니다.\n",
    "\tresponse = requests.get(url=url, headers=headers)\n",
    "\n",
    "\t# post와 마찬가지로 예외를 추가 해줍니다.\n",
    "\tif response.ok == False:\n",
    "\t\tprint(f'Error: {response.status_code} / {response.text}')\n",
    "\t\treturn {}\n",
    "\telse:\n",
    "\t\treturn response.json()\n",
    "\t\n",
    "# 함수 정의에 대한 설명을 추가 합니다.\n",
    "print('get 함수가 정의 되었습니다.')"
   ],
   "outputs": [
    {
     "output_type": "stream",
     "name": "stdout",
     "text": [
      "get 함수가 정의 되었습니다.\n"
     ]
    }
   ],
   "metadata": {}
  },
  {
   "cell_type": "code",
   "execution_count": 2,
   "source": [
    "endpoint = 'https://moa-engineers.midasit.com/civil'\n",
    "target = '/db/node'\n",
    "mapiKey = 'eyJ1ciI6ImtoMTAxMkBtaWRhc2l0LmNvbSIsInBnIjoiY2l2aWwiLCJjbiI6Im1nYU1wVUYtVHcifQ.61bc43c2e85240eabb4f5afd915374a14ba99aa6edd150e5c208a37274d1658f'\n",
    "data = get(url=endpoint + target, mapiKey=mapiKey)\n",
    "print(data)"
   ],
   "outputs": [
    {
     "output_type": "stream",
     "name": "stdout",
     "text": [
      "{'NODE': {'1': {'X': 0, 'Y': 0, 'Z': 0}}}\n"
     ]
    }
   ],
   "metadata": {}
  }
 ],
 "nbformat": 4,
 "nbformat_minor": 2,
 "metadata": {
  "language_info": {
   "codemirror_mode": {
    "name": "ipython",
    "version": 3
   },
   "file_extension": ".py",
   "mimetype": "text/x-python",
   "name": "python",
   "nbconvert_exporter": "python",
   "pygments_lexer": "ipython3",
   "version": 3
  }
 }
}