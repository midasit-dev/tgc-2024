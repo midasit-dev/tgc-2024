{
 "cells": [
  {
   "cell_type": "code",
   "execution_count": 1,
   "metadata": {},
   "outputs": [
    {
     "name": "stdout",
     "output_type": "stream",
     "text": [
      "delete 함수가 정의 되었습니다.\n"
     ]
    }
   ],
   "source": [
    "import requests\n",
    "\n",
    "# 특정 ID를 삭제하기 위해 ID 값도 매개변수로 받습니다.\n",
    "def delete(url, mapiKey, id):\n",
    "\t# 특정 ID를 지우기 위해 URL에 ID값을 추가 합니다.\n",
    "\turl = f'{url}/{id}'\n",
    "\n",
    "\t# headers 구성하기\n",
    "\theaders = {\n",
    "\t\t'MAPI-Key': mapiKey\n",
    "\t}\n",
    "\n",
    "\t# DELETE 요청은 body가 필요 없습니다.\n",
    "\tresponse = requests.delete(url=url, headers=headers)\n",
    "\n",
    "\tif response.ok == False:\n",
    "\t\tprint(f'Error: {response.status_code} / {response.text}')\n",
    "\t\treturn {}\n",
    "\telse:\n",
    "\t\treturn response.json()\n",
    "\t\n",
    "print('delete 함수가 정의 되었습니다.')"
   ]
  },
  {
   "cell_type": "code",
   "execution_count": 2,
   "metadata": {},
   "outputs": [
    {
     "name": "stdout",
     "output_type": "stream",
     "text": [
      "Error: 400 / Not Found Key\n",
      "{}\n"
     ]
    }
   ],
   "source": [
    "endpoint = 'https://moa-engineers.midasit.com/civil'\n",
    "target = '/db/node'\n",
    "mapiKey = 'eyJ1ciI6ImtoMTAxMkBtaWRhc2l0LmNvbSIsInBnIjoiY2l2aWwiLCJjbiI6Im1nYU1wVUYtVHcifQ.61bc43c2e85240eabb4f5afd915374a14ba99aa6edd150e5c208a37274d1658f'\n",
    "data = delete(url=endpoint + target, mapiKey=mapiKey, id=1)\n",
    "print(data)"
   ]
  }
 ],
 "metadata": {
  "kernelspec": {
   "display_name": "Python 3",
   "language": "python",
   "name": "python3"
  },
  "language_info": {
   "codemirror_mode": {
    "name": "ipython",
    "version": 3
   },
   "file_extension": ".py",
   "mimetype": "text/x-python",
   "name": "python",
   "nbconvert_exporter": "python",
   "pygments_lexer": "ipython3",
   "version": "3.12.2"
  }
 },
 "nbformat": 4,
 "nbformat_minor": 2
}
