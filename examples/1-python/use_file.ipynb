{
 "cells": [
  {
   "cell_type": "code",
   "execution_count": 1,
   "source": [
    "import json\n",
    "\n",
    "# Reading JSON from a file\n",
    "with open('use_sample.json', 'r') as file:\n",
    "\tdata = json.load(file)\n",
    "\tprint(data)"
   ],
   "outputs": [
    {
     "output_type": "stream",
     "name": "stdout",
     "text": [
      "{'name': 'John Doe', 'age': 30, 'isEmployed': True}\n"
     ]
    }
   ],
   "metadata": {}
  },
  {
   "cell_type": "code",
   "execution_count": 4,
   "source": [
    "import json\n",
    "\n",
    "# Writing JSON to a file\n",
    "data = {\"name\": \"kim hyun\", \"age\": 25, \"isEmployed\": True}\n",
    "with open('use_sample.json', 'w') as file:\n",
    "\tjson.dump(data, file)\n",
    "\n",
    "# Reading JSON from a file\n",
    "with open('use_sample.json', 'r') as file:\n",
    "\tdata = json.load(file)\n",
    "\tprint(data)"
   ],
   "outputs": [
    {
     "output_type": "stream",
     "name": "stdout",
     "text": [
      "{'name': 'kim hyun', 'age': 25, 'isEmployed': True}\n"
     ]
    }
   ],
   "metadata": {}
  }
 ],
 "nbformat": 4,
 "nbformat_minor": 2,
 "metadata": {
  "language_info": {
   "codemirror_mode": {
    "name": "ipython",
    "version": 3
   },
   "file_extension": ".py",
   "mimetype": "text/x-python",
   "name": "python",
   "nbconvert_exporter": "python",
   "pygments_lexer": "ipython3",
   "version": 3
  }
 }
}