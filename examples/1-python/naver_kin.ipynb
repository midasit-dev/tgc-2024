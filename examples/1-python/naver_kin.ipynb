{
 "cells": [
  {
   "cell_type": "markdown",
   "metadata": {
    "isInteractiveWindowMessageCell": true
   },
   "source": [
    "Connected to Python 3.12.2"
   ]
  },
  {
   "cell_type": "code",
   "execution_count": 11,
   "metadata": {},
   "outputs": [
    {
     "name": "stdout",
     "output_type": "stream",
     "text": [
      "{'lastBuildDate': 'Sun, 24 Mar 2024 18:33:53 +0900', 'total': 2900706, 'start': 1, 'display': 10, 'items': [{'title': 'ADHD<b>테스트</b> 결과로 치료없이 약만?(인천 ADHD)', 'link': 'https://kin.naver.com/qna/detail.naver?d1id=7&dirId=70305&docId=466527734&qb=7YWM7Iqk7Yq4&enc=utf8&section=kin.qna&rank=1&search_sort=0&spq=0', 'description': '... 상담센터에서 ADHD<b>테스트</b>를 받았더니 ADHD가 맞다고 해서... 그냥 이전에 받은 ADHD<b>테스트</b> 결과로 진료를 대신하고... ADHD<b>테스트</b> 결과에 따라서 놀이치료와 상담치료를 받고... ADHD<b>테스트</b> 결과로 진료를 대신하고 다른 치료 없이 바로... '}, {'title': '우울증 <b>테스트</b>', 'link': 'https://kin.naver.com/qna/detail.naver?d1id=7&dirId=70305&docId=462108050&qb=7YWM7Iqk7Yq4&enc=utf8&section=kin.qna&rank=2&search_sort=0&spq=0', 'description': '... 우울증 <b>테스트</b>는 여러 가지로 해봤고 대부분 다 25점 이상이네요.... 우울증 <b>테스트</b>라서 정확하지는 않겠지만 혹시 이거 우울증인가요..? 혹시라도... 간이로 하는 우울증 <b>테스트</b>는 전적으로 신뢰할만하지 않습니다. 중요한 것은 이런... '}, {'title': '사시 <b>테스트</b>', 'link': 'https://kin.naver.com/qna/detail.naver?d1id=13&dirId=130505&docId=464197835&qb=7YWM7Iqk7Yq4&enc=utf8&section=kin.qna&rank=3&search_sort=0&spq=0', 'description': '사시<b>테스트</b> 눈 가리는거?해 봤는데..느리게 보명 스윽 하고 움직여요..원래 오른쪽 눈동자가 올라가 있긴 했는데... 위 <b>테스트</b>에서 예가 나온다면 상사시 경우이지만 그렇지 않을 경우에는 상사시가 아닙니다. 만일 상사시가... '}, {'title': '엠베스트 전화<b>테스트</b>하나요?', 'link': 'https://kin.naver.com/qna/detail.naver?d1id=11&dirId=110409&docId=463347072&qb=7YWM7Iqk7Yq4&enc=utf8&section=kin.qna&rank=4&search_sort=0&spq=0', 'description': '... 무슨 <b>테스트</b> 같은거 하신다고 했는데 혹시 인강 들었던거 중에 전화로 <b>테스트</b>하나요? 정말정말 궁금... 직접 <b>테스트</b>를 하는 건 아니고 , 담임<b>테스트</b>라고 하여 태블릿에서 문제를 풀 수 있도록 하고 있습니다.... '}, {'title': '청소년 우울증 <b>테스트</b>(충북 음성 청소년우울증)', 'link': 'https://kin.naver.com/qna/detail.naver?d1id=7&dirId=70305&docId=463697089&qb=7YWM7Iqk7Yq4&enc=utf8&section=kin.qna&rank=5&search_sort=0&spq=0', 'description': '충북 음성 10대 중반/여 청소년우울증 청소년 우울증 <b>테스트</b>? 중학생 아들이... 청소년 우울증 <b>테스트</b> 관련한 증상들은 간략하게 추리면 다음과 같습니다.... 청소년 우울증 <b>테스트</b> 관련한 리스트를 잘 살펴보시고, 해당된다면 한의원 및... '}, {'title': 'ADHD <b>테스트</b> 받아보고 싶습니다(교대 ADHD)', 'link': 'https://kin.naver.com/qna/detail.naver?d1id=7&dirId=70301&docId=466493548&qb=7YWM7Iqk7Yq4&enc=utf8&section=kin.qna&rank=6&search_sort=0&spq=0', 'description': '... ADHD <b>테스트</b> 받아보고 싶은데 어디로 찾아가서 검사를 하면 좋나요? 그리고 증상이 확인된 경우에는 어떤 식의... 그래서 ADHD <b>테스트</b>와 함께 치료 방법에 대해서도 알아보고 계실텐데요. ADHD는 일반적인 경우 소아기에 나타나서 나이가... '}, {'title': '머리카락 탈모<b>테스트</b>', 'link': 'https://kin.naver.com/qna/detail.naver?d1id=7&dirId=70111&docId=459040663&qb=7YWM7Iqk7Yq4&enc=utf8&section=kin.qna&rank=7&search_sort=0&spq=0', 'description': '... 풀<b>테스트</b>? 풀링<b>테스트</b>? 일정량 모발을 잡고 잡아 당겨겼을 때 잡은 모발 10... 대충 100~200 사이쯤 잡고 풀<b>테스트</b>를 했는데 처음엔 한 가닥 뽑히더라고요... 서론이 좀 길었지만 본론은 풀<b>테스트</b> 할 때 한 번 했을 때 결과로만 판단해야... '}, {'title': '애플워치 불량<b>테스트</b>', 'link': 'https://kin.naver.com/qna/detail.naver?d1id=1&dirId=1070401&docId=465490249&qb=7YWM7Iqk7Yq4&enc=utf8&section=kin.qna&rank=8&search_sort=0&spq=0', 'description': '... 불량<b>테스트</b>를 하고 문제가 있어야 환불이 가능한데... 불량<b>테스트</b> 받을 수 있나요?? 받을 수 있다면 비용은 어느정도인가요?? 애플 워치의 불량 <b>테스트</b>를 받으려면, 애플 서비스 센터를 방문하여 <b>테스트</b>를 받아야 합니다. 애플... '}, {'title': '얼리테스티기로 관계 10일 후 <b>테스트</b> 했어요 음성이면', 'link': 'https://kin.naver.com/qna/detail.naver?d1id=7&dirId=7011401&docId=463872436&qb=7YWM7Iqk7Yq4&enc=utf8&section=kin.qna&rank=9&search_sort=0&spq=0', 'description': '얼리테스티기로 관계 10일 후 <b>테스트</b> 했어요 음성이면 임신... 임신 <b>테스트</b>기는 2주 뒤에 확인할 수 있는 임신 유무를 조금 일찍 알 수 있는 것으로 관계 후 10일 뒤에 <b>테스트</b>할... 관계 후 10일 이후에는 어느 시기든 <b>테스트</b>하여 임신... '}, {'title': '디스코드 마이크 <b>테스트</b> 질문', 'link': 'https://kin.naver.com/qna/detail.naver?d1id=5&dirId=50103&docId=463703091&qb=7YWM7Iqk7Yq4&enc=utf8&section=kin.qna&rank=10&search_sort=0&spq=0', 'description': 'windows 녹음기로 <b>테스트</b> 해봤는데 일단 확실히 제 마이크 출력에는 문제가 없습니다. 근데 디스코드 마이크 <b>테스트</b>만 하면 만약 <b>테스트</b>를 아-------로 하면 목소리가 아-아-아... 마이크 <b>테스트</b>라 그렇습니다. 크게 신경쓰지 않으셔도... '}]}\n"
     ]
    }
   ],
   "source": [
    "# 기본 지식 IN 검색어 요청 API\n",
    "\n",
    "import requests\n",
    "\n",
    "search = '테스트'\n",
    "\n",
    "base_url = 'https://openapi.naver.com'\n",
    "endpoint = '/v1/search/kin.json'\n",
    "querires = f'?display=10&start=1sort=sim&query={search}'\n",
    "request_url = base_url + endpoint + querires\n",
    "\n",
    "response = requests.get(request_url, headers={\n",
    "\t'X-Naver-Client-Id': '_ZmCg8dq6yF7ryeYonjh',\n",
    "\t'X-Naver-Client-Secret': 'y4gNuvrnkE',\n",
    "\t'Content-Type': 'application/json'\n",
    "})\n",
    "\n",
    "result = response.json()\n",
    "print(result)"
   ]
  },
  {
   "cell_type": "code",
   "execution_count": 13,
   "metadata": {},
   "outputs": [
    {
     "name": "stdout",
     "output_type": "stream",
     "text": [
      ">> title\n",
      ">> link\n",
      ">> description\n"
     ]
    }
   ],
   "source": [
    "# 필터링 기능 추가 (사용 가능한 필터링 키워드 목록)\n",
    "\n",
    "import requests\n",
    "\n",
    "search = '테스트'\n",
    "\n",
    "base_url = 'https://openapi.naver.com'\n",
    "endpoint = '/v1/search/kin.json'\n",
    "querires = f'?display=10&start=1sort=sim&query={search}'\n",
    "request_url = base_url + endpoint + querires\n",
    "\n",
    "response = requests.get(request_url, headers={\n",
    "\t'X-Naver-Client-Id': '_ZmCg8dq6yF7ryeYonjh',\n",
    "\t'X-Naver-Client-Secret': 'y4gNuvrnkE',\n",
    "\t'Content-Type': 'application/json'\n",
    "})\n",
    "\n",
    "result = response.json()\n",
    "\n",
    "keys = result['items'][0].keys()\n",
    "for key in keys:\n",
    "\tprint(f'>> {key}')"
   ]
  },
  {
   "cell_type": "code",
   "execution_count": 14,
   "metadata": {},
   "outputs": [
    {
     "name": "stdout",
     "output_type": "stream",
     "text": [
      "입력한 검색어:  검색어\n",
      ">> title\n",
      ">> link\n",
      ">> description\n",
      "입력한 키워드:  title\n"
     ]
    }
   ],
   "source": [
    "# 사용자 입력 기능 추가\n",
    "\n",
    "import requests\n",
    "\n",
    "# search = '테스트'\n",
    "search = str(input('검색어를 입력하세요: '))\n",
    "print('입력한 검색어: ', search)\n",
    "\n",
    "base_url = 'https://openapi.naver.com'\n",
    "endpoint = '/v1/search/kin.json'\n",
    "querires = f'?display=10&start=1sort=sim&query={search}'\n",
    "request_url = base_url + endpoint + querires\n",
    "\n",
    "response = requests.get(request_url, headers={\n",
    "\t'X-Naver-Client-Id': '_ZmCg8dq6yF7ryeYonjh',\n",
    "\t'X-Naver-Client-Secret': 'y4gNuvrnkE',\n",
    "\t'Content-Type': 'application/json'\n",
    "})\n",
    "\n",
    "result = response.json()\n",
    "\n",
    "keys = result['items'][0].keys()\n",
    "for key in keys:\n",
    "\tprint(f'>> {key}')\n",
    "keyword = str(input('필터링 키워드를 입력하세요: '))\n",
    "print('입력한 키워드: ', keyword)\n"
   ]
  },
  {
   "cell_type": "code",
   "execution_count": 15,
   "metadata": {},
   "outputs": [
    {
     "name": "stdout",
     "output_type": "stream",
     "text": [
      "입력한 검색어:  테스트\n",
      ">> title\n",
      ">> link\n",
      ">> description\n",
      "입력한 키워드:  title\n",
      "필터링된 데이터: \n",
      "['ADHD<b>테스트</b> 결과로 치료없이 약만?(인천 ADHD)', '우울증 <b>테스트</b>', '사시 <b>테스트</b>', '엠베스트 전화<b>테스트</b>하나요?', '청소년 우울증 <b>테스트</b>(충북 음성 청소년우울증)', 'ADHD <b>테스트</b> 받아보고 싶습니다(교대 ADHD)', '머리카락 탈모<b>테스트</b>', '애플워치 불량<b>테스트</b>', '얼리테스티기로 관계 10일 후 <b>테스트</b> 했어요 음성이면', '디스코드 마이크 <b>테스트</b> 질문']\n"
     ]
    }
   ],
   "source": [
    "# 필터링된 데이터 추출\n",
    "\n",
    "import requests\n",
    "\n",
    "# search = '테스트'\n",
    "search = str(input('검색어를 입력하세요: '))\n",
    "print('입력한 검색어: ', search)\n",
    "\n",
    "base_url = 'https://openapi.naver.com'\n",
    "endpoint = '/v1/search/kin.json'\n",
    "querires = f'?display=10&start=1sort=sim&query={search}'\n",
    "request_url = base_url + endpoint + querires\n",
    "\n",
    "response = requests.get(request_url, headers={\n",
    "\t'X-Naver-Client-Id': '_ZmCg8dq6yF7ryeYonjh',\n",
    "\t'X-Naver-Client-Secret': 'y4gNuvrnkE',\n",
    "\t'Content-Type': 'application/json'\n",
    "})\n",
    "\n",
    "result = response.json()\n",
    "\n",
    "keys = result['items'][0].keys()\n",
    "for key in keys:\n",
    "\tprint(f'>> {key}')\n",
    "keyword = str(input('필터링 키워드를 입력하세요: '))\n",
    "print('입력한 키워드: ', keyword)\n",
    "\n",
    "filtered = []\n",
    "for item in result['items']:\n",
    "\tif not keyword in item:\n",
    "\t\tprint('키워드가 존재하지 않습니다.')\n",
    "\t\tbreak\n",
    "\tfiltered.append(item[keyword])\n",
    "\n",
    "print('필터링된 데이터: ')\n",
    "print(filtered)"
   ]
  },
  {
   "cell_type": "code",
   "execution_count": 16,
   "metadata": {},
   "outputs": [
    {
     "name": "stdout",
     "output_type": "stream",
     "text": [
      "입력한 검색어:  테스트\n",
      "데이터를 처리 중 입니다 ...\n",
      "데이터 처리가 완료 되었습니다.\n",
      ">> title\n",
      ">> link\n",
      ">> description\n",
      "\n",
      "입력한 키워드:  title\n",
      "\n",
      "필터링된 데이터: \n",
      "[\n",
      "  \"ADHD<b>테스트</b> 결과로 치료없이 약만?(인천 ADHD)\",\n",
      "  \"우울증 <b>테스트</b>\",\n",
      "  \"사시 <b>테스트</b>\",\n",
      "  \"엠베스트 전화<b>테스트</b>하나요?\",\n",
      "  \"청소년 우울증 <b>테스트</b>(충북 음성 청소년우울증)\",\n",
      "  \"ADHD <b>테스트</b> 받아보고 싶습니다(교대 ADHD)\",\n",
      "  \"머리카락 탈모<b>테스트</b>\",\n",
      "  \"애플워치 불량<b>테스트</b>\",\n",
      "  \"얼리테스티기로 관계 10일 후 <b>테스트</b> 했어요 음성이면\",\n",
      "  \"디스코드 마이크 <b>테스트</b> 질문\"\n",
      "]\n"
     ]
    }
   ],
   "source": [
    "# 중간 상태 출력 및 가독성 높이기\n",
    "\n",
    "import requests\n",
    "\n",
    "# search = '테스트'\n",
    "search = str(input('검색어를 입력하세요: '))\n",
    "print('입력한 검색어: ', search)\n",
    "\n",
    "base_url = 'https://openapi.naver.com'\n",
    "endpoint = '/v1/search/kin.json'\n",
    "querires = f'?display=10&start=1sort=sim&query={search}'\n",
    "request_url = base_url + endpoint + querires\n",
    "\n",
    "print('데이터를 처리 중 입니다 ...')\n",
    "response = requests.get(request_url, headers={\n",
    "\t'X-Naver-Client-Id': '_ZmCg8dq6yF7ryeYonjh',\n",
    "\t'X-Naver-Client-Secret': 'y4gNuvrnkE',\n",
    "\t'Content-Type': 'application/json'\n",
    "})\n",
    "result = response.json()\n",
    "print('데이터 처리가 완료 되었습니다.')\n",
    "\n",
    "keys = result['items'][0].keys()\n",
    "for key in keys:\n",
    "\tprint(f'>> {key}')\n",
    "keyword = str(input('필터링 키워드를 입력하세요: '))\n",
    "print('\\n입력한 키워드: ', keyword)\n",
    "\n",
    "filtered = []\n",
    "for item in result['items']:\n",
    "\tif not keyword in item:\n",
    "\t\tprint('키워드가 존재하지 않습니다.')\n",
    "\t\tbreak\n",
    "\tfiltered.append(item[keyword])\n",
    "\n",
    "print('\\n필터링된 데이터: ')\n",
    "print(json.dumps(filtered, indent=2, ensure_ascii=False))"
   ]
  },
  {
   "cell_type": "code",
   "execution_count": 17,
   "metadata": {},
   "outputs": [
    {
     "name": "stdout",
     "output_type": "stream",
     "text": [
      "입력한 검색어:  연말정산\n",
      "데이터를 처리 중 입니다 ...\n",
      "데이터 처리가 완료 되었습니다.\n",
      ">> title\n",
      ">> link\n",
      ">> description\n",
      "\n",
      "입력한 키워드:  description\n",
      "\n",
      "필터링된 데이터: \n",
      "[\n",
      "  \"... <b>연말정산</b> 하려고 하니 아르바이트하는 쪽에서 소득이 잡혀서 해야된다는데 이러한 경우 <b>연말정산</b>을 꼭 해야하나요? 그러면 남편쪽 <b>연말정산</b>에서 혜택을 못 받아서요 일용근로소득은 분리과세 하기 때문에 남편<b>연말정산</b>시... \",\n",
      "  \"... 직원들 <b>연말정산</b> 따로 하지 않고 기본으로 마무리한다고 하는데 이러면 일단 신고는 <b>연말정산</b> 신고는 된건가요?... 회사에서 <b>연말정산</b>을 진행해 주지 않는 경우에는 올해 5월... 홈택스에서 신고하는 경우 홈택스 <b>연말정산</b>... \",\n",
      "  \"... <b>연말정산</b>을 받을 수 있는걸로 알고 있는데 퇴사하고 3개월이 지난 지금까지 <b>연말정산</b>을 받지 않았는데 <b>연말정산</b>... 원칙적으로 중도 퇴사하면 회사는 기본공제만 적용해 <b>연말정산</b> 합니다. 이 때 환급금이 발생하면 환급금을... \",\n",
      "  \"... 현)진작에서 <b>연말정산</b> 전)직장 서류와 같이 제출했습니다. 하지만 2월에 <b>연말정산</b> 금액을 못받았는데... 31)에 중도퇴사 <b>연말정산</b>시에 반영하지 못한 소득ㆍ세액공제자료(홈택스 <b>연말정산</b>간소화 자료)를 반영하여 홈택스... \",\n",
      "  \"안녕하세요 회사에서 <b>연말정산</b> 결과를 받았는데 결과가 상이해서 질문합니다.... 부모님 <b>연말정산</b> 포함하여 제출했는데 제 <b>연말정산</b>만 처리된 결과가... 하는데 <b>연말정산</b>을 받을 수 있는지 궁금합니다 의료비때문에 나간 금액은 꽤... \",\n",
      "  \"전 급여가 평균 1050000인데요 <b>연말정산</b>을 안하고있어요 <b>연말정산</b> 소득기준은 얼마부터인지요 안녕하세요.... 세법상 <b>연말정산</b> 소득기준이라는 것은 없습니다. 근로소득은 연간총급여가 단 100만원이어도 <b>연말정산</b>을 해야하고... \",\n",
      "  \"... 병원 <b>연말정산</b> 시 근무기간만 신청가능하다 하여 5-12월 신청했습니다. -23년 <b>연말정산</b> 시 2-5월 알바에 대한 공제는 어떻게하나요? -<b>연말정산</b>이 불가능하면 5월 종부세 신고시 추가로 신청해야되나요? <b>연말정산</b> 시에는... \",\n",
      "  \"... 수급자라면 <b>연말정산</b>이 해당되지 않아서 현금영수증 발급을 굳이 안해도 된다고 들었는데 맞나요? <b>연말정산</b>, 소득세신고는 실습으로 해봤지만 수급자들의 <b>연말정산</b>은... 자활근로 수급자의 경우에도 <b>연말정산</b>이 해당될 수 있습니다.... \",\n",
      "  \"... 23년도 <b>연말정산</b>은 저희 회사에서 끝내야하는건줄 알았는데 2월에 퇴사자 정산이 끝나서 <b>연말정산</b>이 안된다고... 직접 <b>연말정산</b>해야 다시 돌려받는건가요? 2023.12.31에 퇴사자의 <b>연말정산</b>은 2023년 말에 근무하였던 회사에서, 2024년... \",\n",
      "  \"... <b>연말정산</b>신청을 해본적이 없어서 <b>연말정산</b>을 개인이 신청하면 제출을 어디에 하는건지.. 근로소득<b>연말정산</b>의무자는 원천징수의무자인 직장이 하는 것입니다 만일 직장에서 <b>연말정산</b>을 하지 못한... \"\n",
      "]\n"
     ]
    }
   ],
   "source": [
    "\n",
    "# 중간 상태 출력 및 가독성 높이기\n",
    "\n",
    "import requests\n",
    "\n",
    "# search = '테스트'\n",
    "search = str(input('검색어를 입력하세요: '))\n",
    "print('입력한 검색어: ', search)\n",
    "\n",
    "base_url = 'https://openapi.naver.com'\n",
    "endpoint = '/v1/search/kin.json'\n",
    "querires = f'?display=10&start=1sort=sim&query={search}'\n",
    "request_url = base_url + endpoint + querires\n",
    "\n",
    "print('데이터를 처리 중 입니다 ...')\n",
    "response = requests.get(request_url, headers={\n",
    "\t'X-Naver-Client-Id': '_ZmCg8dq6yF7ryeYonjh',\n",
    "\t'X-Naver-Client-Secret': 'y4gNuvrnkE',\n",
    "\t'Content-Type': 'application/json'\n",
    "})\n",
    "result = response.json()\n",
    "print('데이터 처리가 완료 되었습니다.')\n",
    "\n",
    "keys = result['items'][0].keys()\n",
    "for key in keys:\n",
    "\tprint(f'>> {key}')\n",
    "keyword = str(input('필터링 키워드를 입력하세요: '))\n",
    "print('\\n입력한 키워드: ', keyword)\n",
    "\n",
    "filtered = []\n",
    "for item in result['items']:\n",
    "\tif not keyword in item:\n",
    "\t\tprint('키워드가 존재하지 않습니다.')\n",
    "\t\tbreak\n",
    "\tfiltered.append(item[keyword])\n",
    "\n",
    "print('\\n필터링된 데이터: ')\n",
    "print(json.dumps(filtered, indent=2, ensure_ascii=False))"
   ]
  }
 ],
 "metadata": {
  "kernelspec": {
   "display_name": "Python 3",
   "language": "python",
   "name": "python3"
  },
  "language_info": {
   "codemirror_mode": {
    "name": "ipython",
    "version": 3
   },
   "file_extension": ".py",
   "mimetype": "text/x-python",
   "name": "python",
   "nbconvert_exporter": "python",
   "pygments_lexer": "ipython3",
   "version": "3.12.2"
  }
 },
 "nbformat": 4,
 "nbformat_minor": 2
}
