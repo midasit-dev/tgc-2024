{
 "cells": [
  {
   "cell_type": "code",
   "execution_count": 7,
   "metadata": {},
   "outputs": [
    {
     "name": "stdout",
     "output_type": "stream",
     "text": [
      "Success!\n"
     ]
    }
   ],
   "source": [
    "# Success!\n",
    "import requests\n",
    "\n",
    "base_url_1 = 'https://jsonplaceholder.typicode.com'\n",
    "endpoint_1 = '/posts/1'\n",
    "request_url_1 = base_url_1 + endpoint_1\n",
    "\n",
    "response = requests.get(request_url_1)\n",
    "if response.status_code == 200:\n",
    "\tprint('Success!')\n",
    "else:\n",
    "\tprint(f'Error: {response.status_code}')"
   ]
  },
  {
   "cell_type": "code",
   "execution_count": 3,
   "metadata": {},
   "outputs": [
    {
     "name": "stdout",
     "output_type": "stream",
     "text": [
      "Unauathorized. Authentication required.\n"
     ]
    }
   ],
   "source": [
    "# Authentication Error!\n",
    "import requests\n",
    "\n",
    "base_url_1 = 'https://jsonplaceholder.typicode.com'\n",
    "endpoint_1 = '/posts/1'\n",
    "request_url_1 = base_url_1 + endpoint_1\n",
    "\n",
    "base_url_2 = 'https://httpbin.org'\n",
    "endpoint_2 = '/status'\n",
    "request_url_2 = base_url_2 + endpoint_2\n",
    "\n",
    "response = requests.get(request_url_2 + '/401')\n",
    "if response.status_code == 200:\n",
    "\tprint('Success!')\n",
    "elif response.status_code == 401:\n",
    "\tprint('Unauathorized. Authentication required.')\n",
    "else:\n",
    "\tprint(f'Error: {response.status_code}')"
   ]
  },
  {
   "cell_type": "code",
   "execution_count": 4,
   "metadata": {},
   "outputs": [
    {
     "name": "stdout",
     "output_type": "stream",
     "text": [
      "Forbidden. Access denied.\n"
     ]
    }
   ],
   "source": [
    "# Authentication Error!\n",
    "import requests\n",
    "\n",
    "base_url_1 = 'https://jsonplaceholder.typicode.com'\n",
    "endpoint_1 = '/posts/1'\n",
    "request_url_1 = base_url_1 + endpoint_1\n",
    "\n",
    "base_url_2 = 'https://httpbin.org'\n",
    "endpoint_2 = '/status'\n",
    "request_url_2 = base_url_2 + endpoint_2\n",
    "\n",
    "response = requests.get(request_url_2 + '/403')\n",
    "if response.status_code == 200:\n",
    "\tprint('Success!')\n",
    "elif response.status_code == 401:\n",
    "\tprint('Unauathorized. Authentication required.')\n",
    "elif response.status_code == 403:\n",
    "\tprint('Forbidden. Access denied.')\n",
    "else:\n",
    "\tprint(f'Error: {response.status_code}')"
   ]
  },
  {
   "cell_type": "code",
   "execution_count": 5,
   "metadata": {},
   "outputs": [
    {
     "name": "stdout",
     "output_type": "stream",
     "text": [
      "Resource not found.\n"
     ]
    }
   ],
   "source": [
    "# Authentication Error!\n",
    "import requests\n",
    "\n",
    "base_url_1 = 'https://jsonplaceholder.typicode.com'\n",
    "endpoint_1 = '/posts/999'\n",
    "request_url_1 = base_url_1 + endpoint_1\n",
    "\n",
    "base_url_2 = 'https://httpbin.org'\n",
    "endpoint_2 = '/status'\n",
    "request_url_2 = base_url_2 + endpoint_2\n",
    "\n",
    "response = requests.get(request_url_1)\n",
    "if response.status_code == 200:\n",
    "\tprint('Success!')\n",
    "elif response.status_code == 401:\n",
    "\tprint('Unauathorized. Authentication required.')\n",
    "elif response.status_code == 403:\n",
    "\tprint('Forbidden. Access denied.')\n",
    "elif response.status_code == 404:\n",
    "\tprint('Resource not found.')\n",
    "else:\n",
    "\tprint(f'Error: {response.status_code}')"
   ]
  },
  {
   "cell_type": "code",
   "execution_count": 6,
   "metadata": {},
   "outputs": [
    {
     "name": "stdout",
     "output_type": "stream",
     "text": [
      "Server Error!\n"
     ]
    }
   ],
   "source": [
    "# Authentication Error!\n",
    "import requests\n",
    "\n",
    "base_url_1 = 'https://jsonplaceholder.typicode.com'\n",
    "endpoint_1 = '/posts/999'\n",
    "request_url_1 = base_url_1 + endpoint_1\n",
    "\n",
    "base_url_2 = 'https://httpbin.org'\n",
    "endpoint_2 = '/status'\n",
    "request_url_2 = base_url_2 + endpoint_2\n",
    "\n",
    "response = requests.get(request_url_2 + '/500')\n",
    "if response.status_code == 200:\n",
    "\tprint('Success!')\n",
    "elif response.status_code == 401:\n",
    "\tprint('Unauathorized. Authentication required.')\n",
    "elif response.status_code == 403:\n",
    "\tprint('Forbidden. Access denied.')\n",
    "elif response.status_code == 404:\n",
    "\tprint('Resource not found.')\n",
    "elif response.status_code == 500:\n",
    "\tprint('Server Error!')\n",
    "else:\n",
    "\tprint(f'Error: {response.status_code}')"
   ]
  }
 ],
 "metadata": {
  "kernelspec": {
   "display_name": "Python 3",
   "language": "python",
   "name": "python3"
  },
  "language_info": {
   "codemirror_mode": {
    "name": "ipython",
    "version": 3
   },
   "file_extension": ".py",
   "mimetype": "text/x-python",
   "name": "python",
   "nbconvert_exporter": "python",
   "pygments_lexer": "ipython3",
   "version": "3.12.2"
  }
 },
 "nbformat": 4,
 "nbformat_minor": 2
}
