{
 "cells": [
  {
   "cell_type": "code",
   "execution_count": 2,
   "metadata": {},
   "outputs": [
    {
     "data": {
      "text/plain": [
       "200"
      ]
     },
     "execution_count": 2,
     "metadata": {},
     "output_type": "execute_result"
    }
   ],
   "source": [
    "import requests\n",
    "\n",
    "base_url = 'https://jsonplaceholder.typicode.com'\n",
    "endpoint = '/posts'\n",
    "request_url = base_url + endpoint\n",
    "\n",
    "# 응답 객체를 만듭니다.\n",
    "response = requests.get(request_url)\n",
    "\n",
    "# 동일하게 status_code를 찾아 봅니다.\n",
    "response.status_code\n",
    "\n",
    "# 200번이 나왔다면 위 사이트도 현재 정상적으로 응답할 수 있는 주소 값입니다.\n",
    "\n",
    "# + Test\n",
    "# 브라우저에서도 확인 해보겠습니다.\n",
    "# https://jsonplaceholder.typicode.com/posts"
   ]
  },
  {
   "cell_type": "code",
   "execution_count": 3,
   "metadata": {},
   "outputs": [
    {
     "name": "stdout",
     "output_type": "stream",
     "text": [
      "+ Code\n"
     ]
    }
   ],
   "source": [
    "print('+ Code')"
   ]
  },
  {
   "cell_type": "markdown",
   "metadata": {},
   "source": [
    "위 코드는 + Code라는 문자열을 출력하는 Python 코드 입니다.\n",
    "다음과 같은 설명을 중간에 써도 됩니다!\n",
    "# h1\n",
    "## h2\n",
    "\n",
    "위와 같은 기본적인 Markdown 문법을 사용할 수도 있습니다."
   ]
  },
  {
   "cell_type": "code",
   "execution_count": 4,
   "metadata": {},
   "outputs": [
    {
     "name": "stdout",
     "output_type": "stream",
     "text": [
      "Success!\n"
     ]
    }
   ],
   "source": [
    "import requests\n",
    "\n",
    "base_url = 'https://jsonplaceholder.typicode.com'\n",
    "endpoint = '/posts'\n",
    "request_url = base_url + endpoint\n",
    "\n",
    "response = requests.get(request_url)\n",
    "if response.status_code == 200:\n",
    "\tprint('Success!')\n",
    "else:\n",
    "\tprint(f'Error: {response.status_code}')"
   ]
  },
  {
   "cell_type": "code",
   "execution_count": 5,
   "metadata": {},
   "outputs": [
    {
     "name": "stdout",
     "output_type": "stream",
     "text": [
      "Unauathorized. Authentication required.\n"
     ]
    }
   ],
   "source": [
    "import requests\n",
    "\n",
    "base_url = 'https://httpbin.org'\n",
    "endpoint = '/status'\n",
    "url_path = '/401' # 인증 필요 상태 코드\n",
    "request_url = base_url + endpoint + url_path\n",
    "\n",
    "response = requests.get(request_url)\n",
    "if response.status_code == 200:\n",
    "\tprint('Success!')\n",
    "elif response.status_code == 401:\n",
    "\tprint('Unauathorized. Authentication required.')\n",
    "else:\n",
    "\tprint(f'Error: {response.status_code}')"
   ]
  },
  {
   "cell_type": "code",
   "execution_count": 6,
   "metadata": {},
   "outputs": [
    {
     "name": "stdout",
     "output_type": "stream",
     "text": [
      "Forbidden. Access denied.\n"
     ]
    }
   ],
   "source": [
    "import requests\n",
    "\n",
    "base_url = 'https://httpbin.org'\n",
    "endpoint = '/status'\n",
    "url_path = '/403' # 인증 필요 상태 코드\n",
    "request_url = base_url + endpoint + url_path\n",
    "\n",
    "response = requests.get(request_url)\n",
    "if response.status_code == 200:\n",
    "\tprint('Success!')\n",
    "elif response.status_code == 401:\n",
    "\tprint('Unauathorized. Authentication required.')\n",
    "elif response.status_code == 403:\n",
    "\tprint('Forbidden. Access denied.')\n",
    "else:\n",
    "\tprint(f'Error: {response.status_code}')"
   ]
  },
  {
   "cell_type": "code",
   "execution_count": 7,
   "metadata": {},
   "outputs": [
    {
     "name": "stdout",
     "output_type": "stream",
     "text": [
      "Resource not found.\n"
     ]
    }
   ],
   "source": [
    "import requests\n",
    "\n",
    "base_url = 'https://httpbin.org'\n",
    "endpoint = '/status'\n",
    "url_path = '/404' # 인증 필요 상태 코드\n",
    "request_url = base_url + endpoint + url_path\n",
    "\n",
    "response = requests.get(request_url)\n",
    "if response.status_code == 200:\n",
    "\tprint('Success!')\n",
    "elif response.status_code == 401:\n",
    "\tprint('Unauathorized. Authentication required.')\n",
    "elif response.status_code == 403:\n",
    "\tprint('Forbidden. Access denied.')\n",
    "elif response.status_code == 404:\n",
    "\tprint('Resource not found.')\n",
    "else:\n",
    "\tprint(f'Error: {response.status_code}')"
   ]
  },
  {
   "cell_type": "code",
   "execution_count": 8,
   "metadata": {},
   "outputs": [
    {
     "name": "stdout",
     "output_type": "stream",
     "text": [
      "Internal server error.\n"
     ]
    }
   ],
   "source": [
    "import requests\n",
    "\n",
    "base_url = 'https://httpbin.org'\n",
    "endpoint = '/status'\n",
    "url_path = '/500' # 인증 필요 상태 코드\n",
    "request_url = base_url + endpoint + url_path\n",
    "\n",
    "response = requests.get(request_url)\n",
    "if response.status_code == 200:\n",
    "\tprint('Success!')\n",
    "elif response.status_code == 401:\n",
    "\tprint('Unauathorized. Authentication required.')\n",
    "elif response.status_code == 403:\n",
    "\tprint('Forbidden. Access denied.')\n",
    "elif response.status_code == 404:\n",
    "\tprint('Resource not found.')\n",
    "elif response.status_code == 500:\n",
    "\tprint('Internal server error.')\n",
    "else:\n",
    "\tprint(f'Error: {response.status_code}')"
   ]
  }
 ],
 "metadata": {
  "kernelspec": {
   "display_name": "Python 3",
   "language": "python",
   "name": "python3"
  },
  "language_info": {
   "codemirror_mode": {
    "name": "ipython",
    "version": 3
   },
   "file_extension": ".py",
   "mimetype": "text/x-python",
   "name": "python",
   "nbconvert_exporter": "python",
   "pygments_lexer": "ipython3",
   "version": "3.12.2"
  }
 },
 "nbformat": 4,
 "nbformat_minor": 2
}
