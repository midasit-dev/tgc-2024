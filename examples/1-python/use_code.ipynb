{
 "cells": [
  {
   "cell_type": "code",
   "execution_count": 1,
   "source": [
    "import json\n",
    "\n",
    "# Parsing JSON\n",
    "json_string = '{\t\"name\": \"John Doe\",\t\"age\": 30,\t\"isEmployed\": true}'\n",
    "parsed = json.loads(json_string)\n",
    "print(parsed)\n",
    "\n",
    "# Generating JSON\n",
    "data = {\"name\": \"John Doe\", \"age\": 30, \"isEmployed\": True}\n",
    "json_string = json.dumps(data)\n",
    "print(json_string)"
   ],
   "outputs": [
    {
     "output_type": "stream",
     "name": "stdout",
     "text": [
      "{'name': 'John Doe', 'age': 30, 'isEmployed': True}\n",
      "{\"name\": \"John Doe\", \"age\": 30, \"isEmployed\": true}\n"
     ]
    }
   ],
   "metadata": {}
  },
  {
   "cell_type": "code",
   "execution_count": 3,
   "source": [
    "import json\n",
    "\n",
    "# Parsing JSON\n",
    "json_string = '{\t\"name\": \"John Doe\",\t\"age\": 30,\t\"isEmployed\": true}'\n",
    "parsed = json.loads(json_string)\n",
    "print(parsed)\n",
    "\n",
    "# use Dictionary\n",
    "print('current name', parsed['name'])\n",
    "parsed['name'] = 'kim hyun'\n",
    "print('new name', parsed['name'])\n",
    "print (parsed)\n",
    "\n",
    "# Generating JSON\n",
    "data = {\"name\": \"John Doe\", \"age\": 30, \"isEmployed\": True}\n",
    "json_string = json.dumps(data)\n",
    "print(json_string)"
   ],
   "outputs": [
    {
     "output_type": "stream",
     "name": "stdout",
     "text": [
      "{'name': 'John Doe', 'age': 30, 'isEmployed': True}\n",
      "current name John Doe\n",
      "new name kim hyun\n",
      "{'name': 'kim hyun', 'age': 30, 'isEmployed': True}\n",
      "{\"name\": \"John Doe\", \"age\": 30, \"isEmployed\": true}\n"
     ]
    }
   ],
   "metadata": {}
  },
  {
   "cell_type": "code",
   "execution_count": 4,
   "source": [
    "import json\n",
    "\n",
    "# Parsing JSON\n",
    "json_string = '{\t\"name\": \"John Doe\",\t\"age\": 30,\t\"isEmployed\": true}'\n",
    "parsed = json.loads(json_string)\n",
    "print(parsed)\n",
    "\n",
    "# use Dictionary\n",
    "print('current name', parsed['name'])\n",
    "parsed['name'] = 'kim hyun'\n",
    "print('new name', parsed['name'])\n",
    "print (parsed)\n",
    "\n",
    "# Generating JSON\n",
    "data = {\"name\": \"John Doe\", \"age\": 30, \"isEmployed\": True}\n",
    "json_string = json.dumps(data)\n",
    "print(json_string)\n",
    "\n",
    "# not use json_string\n",
    "json_string['name'] = 'kim hyun'"
   ],
   "outputs": [
    {
     "output_type": "stream",
     "name": "stdout",
     "text": [
      "{'name': 'John Doe', 'age': 30, 'isEmployed': True}\n",
      "current name John Doe\n",
      "new name kim hyun\n",
      "{'name': 'kim hyun', 'age': 30, 'isEmployed': True}\n",
      "{\"name\": \"John Doe\", \"age\": 30, \"isEmployed\": true}\n"
     ]
    },
    {
     "output_type": "error",
     "ename": "TypeError",
     "evalue": "'str' object does not support item assignment",
     "traceback": [
      "\u001b[1;31m---------------------------------------------------------------------------\u001b[0m",
      "\u001b[1;31mTypeError\u001b[0m                                 Traceback (most recent call last)",
      "\u001b[1;32mc:\\MIDAS\\tgc-2024\\examples\\1-python\\use_code.py\u001b[0m in \u001b[0;36mline 20\n\u001b[0;32m     <a href='file:///c%3A/MIDAS/tgc-2024/examples/1-python/use_code.py?line=16'>17</a>\u001b[0m \u001b[39mprint\u001b[39m(json_string)\n\u001b[0;32m     <a href='file:///c%3A/MIDAS/tgc-2024/examples/1-python/use_code.py?line=18'>19</a>\u001b[0m \u001b[39m# not use json_string\u001b[39;00m\n\u001b[1;32m---> <a href='file:///c%3A/MIDAS/tgc-2024/examples/1-python/use_code.py?line=19'>20</a>\u001b[0m json_string[\u001b[39m'\u001b[39;49m\u001b[39mname\u001b[39;49m\u001b[39m'\u001b[39;49m] \u001b[39m=\u001b[39m \u001b[39m'\u001b[39m\u001b[39mkim hyun\u001b[39m\u001b[39m'\u001b[39m\n",
      "\u001b[1;31mTypeError\u001b[0m: 'str' object does not support item assignment"
     ]
    }
   ],
   "metadata": {}
  }
 ],
 "nbformat": 4,
 "nbformat_minor": 2,
 "metadata": {
  "language_info": {
   "codemirror_mode": {
    "name": "ipython",
    "version": 3
   },
   "file_extension": ".py",
   "mimetype": "text/x-python",
   "name": "python",
   "nbconvert_exporter": "python",
   "pygments_lexer": "ipython3",
   "version": 3
  }
 }
}